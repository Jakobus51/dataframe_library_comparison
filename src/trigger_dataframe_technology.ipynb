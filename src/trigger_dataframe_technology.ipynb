{
 "cells": [
  {
   "cell_type": "code",
   "execution_count": null,
   "metadata": {},
   "outputs": [],
   "source": [
    "%load_ext autoreload\n",
    "%autoreload 2"
   ]
  },
  {
   "cell_type": "code",
   "execution_count": null,
   "metadata": {},
   "outputs": [],
   "source": [
    "from pandas_v1 import PandasV1\n",
    "from pandas_v2 import PandasV2\n",
    "from polars_eager import PolarsEager\n",
    "from polars_lazy import PolarsLazy\n",
    "\n",
    "# from pyspark_multi_node import PysparkMultiNode\n",
    "# from pyspark_single_node import PysparkSingleNode\n",
    "\n",
    "SCENARIO = 2\n",
    "dataframe_technology = PolarsEager(scenario=SCENARIO)"
   ]
  },
  {
   "cell_type": "code",
   "execution_count": null,
   "metadata": {},
   "outputs": [],
   "source": [
    "task_0_time = dataframe_technology.load_data()"
   ]
  },
  {
   "cell_type": "code",
   "execution_count": null,
   "metadata": {},
   "outputs": [],
   "source": [
    "task_1_time = dataframe_technology.data_exploration()"
   ]
  },
  {
   "cell_type": "code",
   "execution_count": null,
   "metadata": {},
   "outputs": [],
   "source": [
    "task_2_time = dataframe_technology.display_final_table()"
   ]
  },
  {
   "cell_type": "code",
   "execution_count": null,
   "metadata": {},
   "outputs": [],
   "source": [
    "task_3_time = dataframe_technology.train_statsmodels_model()"
   ]
  },
  {
   "cell_type": "code",
   "execution_count": null,
   "metadata": {},
   "outputs": [],
   "source": [
    "task_4_time = dataframe_technology.train_sklearn_model()"
   ]
  },
  {
   "cell_type": "code",
   "execution_count": null,
   "metadata": {},
   "outputs": [],
   "source": [
    "print(f\"Scenario {SCENARIO} - Task 0: {task_0_time[1]:.2f} seconds\")\n",
    "print(f\"Scenario {SCENARIO} - Task 1: {task_1_time[1]:.2f} seconds\")\n",
    "print(f\"Scenario {SCENARIO} - Task 2: {task_2_time[1]:.2f} seconds\")\n",
    "print(f\"Scenario {SCENARIO} - Task 3: {task_3_time[1]:.2f} seconds\")\n",
    "print(f\"Scenario {SCENARIO} - Task 4: {task_4_time[1]:.2f} seconds\")"
   ]
  },
  {
   "cell_type": "markdown",
   "metadata": {},
   "source": [
    "<!-- pandas v1\n",
    "Scenario 3 - Task 0: 52.32 seconds\n",
    "Scenario 3 - Task 1: 29.26 seconds\n",
    "Scenario 3 - Task 2: 50.17 seconds\n",
    "Scenario 3 - Task 3: 54.89 seconds\n",
    "Scenario 3 - Task 4: 51.42 seconds\n",
    "Scenario 3 - Task 3 Model: 0.06 seconds\n",
    "Scenario 3 - Task 4 Model: 0.02 seconds -->"
   ]
  },
  {
   "cell_type": "markdown",
   "metadata": {},
   "source": []
  }
 ],
 "metadata": {
  "kernelspec": {
   "display_name": ".venv",
   "language": "python",
   "name": "python3"
  },
  "language_info": {
   "codemirror_mode": {
    "name": "ipython",
    "version": 3
   },
   "file_extension": ".py",
   "mimetype": "text/x-python",
   "name": "python",
   "nbconvert_exporter": "python",
   "pygments_lexer": "ipython3",
   "version": "3.10.12"
  }
 },
 "nbformat": 4,
 "nbformat_minor": 2
}
